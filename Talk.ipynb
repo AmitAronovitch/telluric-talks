{
 "cells": [
  {
   "cell_type": "markdown",
   "metadata": {
    "slideshow": {
     "slide_type": "slide"
    }
   },
   "source": [
    "# telluric\n",
    "\n",
    "## Interactive vector and raster geospatial data manipulation in Python\n",
    "\n",
    "\\[TODO: Insert cool image here\\]"
   ]
  },
  {
   "cell_type": "markdown",
   "metadata": {
    "slideshow": {
     "slide_type": "notes"
    }
   },
   "source": [
    "(Introduction)\n",
    "\n",
    "1. Quick introduction to geospatial data\n",
    "  - Vector data\n",
    "  - Raster data\n",
    "  - Formats\n",
    "2. Existing software\n",
    "  - GDAL, GEOS\n",
    "  - rasterio, Fiona, Shapely\n",
    "  - Still, too low level\n",
    "3. telluric library\n",
    "  - Easy manipulation of geometries\n",
    "  - Features and collections\n",
    "  - Input and output\n",
    "  - Raster data\n",
    "4. Future work\n",
    "\n",
    "(Questions?)"
   ]
  },
  {
   "cell_type": "markdown",
   "metadata": {
    "slideshow": {
     "slide_type": "slide"
    }
   },
   "source": [
    "# 1. Quick intro to geospatial data"
   ]
  },
  {
   "cell_type": "markdown",
   "metadata": {
    "slideshow": {
     "slide_type": "slide"
    }
   },
   "source": [
    "# 2. ~~Why yet another~~ Existing software"
   ]
  },
  {
   "cell_type": "markdown",
   "metadata": {
    "slideshow": {
     "slide_type": "slide"
    }
   },
   "source": [
    "# 3. telluric library\n",
    "\n",
    "_telluric is an open source (MIT) Python library to manage vector and raster geospatial data in an interactive and easy way._\n",
    "\n",
    "* Projection-aware geometric operations\n",
    "* Simple I/O for raster and vector data\n",
    "* Interactive visualization\n",
    "* 🕮 Documentation http://telluric.readthedocs.io/\n",
    "* 🔧 Source https://github.com/satellogic/telluric"
   ]
  },
  {
   "cell_type": "markdown",
   "metadata": {
    "slideshow": {
     "slide_type": "slide"
    }
   },
   "source": [
    "# 4. Future work\n",
    "\n",
    "* 🐛 List of issues https://github.com/satellogic/telluric/issues\n",
    "* Better visualization (good performance, unified approach)\n",
    "* Simpler constructors for objects\n",
    "* Better handling of corner cases (specially the antimeridian)\n",
    "* More advanced geometrical operations (such as geodesic buffering)\n",
    "* ...Surprises"
   ]
  },
  {
   "cell_type": "markdown",
   "metadata": {
    "slideshow": {
     "slide_type": "slide"
    }
   },
   "source": [
    "# Questions?\n",
    "\n",
    "* 🕮 http://telluric.readthedocs.io/\n",
    "* 🔧 https://github.com/satellogic/telluric"
   ]
  }
 ],
 "metadata": {
  "celltoolbar": "Slideshow",
  "kernelspec": {
   "display_name": "Python 3",
   "language": "python",
   "name": "python3"
  },
  "language_info": {
   "codemirror_mode": {
    "name": "ipython",
    "version": 3
   },
   "file_extension": ".py",
   "mimetype": "text/x-python",
   "name": "python",
   "nbconvert_exporter": "python",
   "pygments_lexer": "ipython3",
   "version": "3.6.5"
  }
 },
 "nbformat": 4,
 "nbformat_minor": 2
}
